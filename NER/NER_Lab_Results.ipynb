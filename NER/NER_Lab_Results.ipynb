{
  "cells": [
    {
      "cell_type": "code",
      "source": [
        "from google.colab import drive, output\n",
        "drive.mount('/content/drive/')"
      ],
      "metadata": {
        "colab": {
          "base_uri": "https://localhost:8080/"
        },
        "id": "ELGPHKbQruwh",
        "outputId": "80981096-cf62-4ab9-842f-27ba19fe31c8"
      },
      "execution_count": null,
      "outputs": [
        {
          "output_type": "stream",
          "name": "stdout",
          "text": [
            "Mounted at /content/drive/\n"
          ]
        }
      ]
    },
    {
      "cell_type": "code",
      "source": [
        "cd \"/content/drive/MyDrive/Colab Notebooks/NN NLP ass2/Lab9_NER/code\""
      ],
      "metadata": {
        "id": "B99XS_QEbZ5-",
        "colab": {
          "base_uri": "https://localhost:8080/"
        },
        "outputId": "9b0e5ff1-7509-4a78-f1cb-674b787bb085"
      },
      "execution_count": null,
      "outputs": [
        {
          "output_type": "stream",
          "name": "stdout",
          "text": [
            "/content/drive/MyDrive/Colab Notebooks/NN NLP ass2/Lab9_NER/code\n"
          ]
        }
      ]
    },
    {
      "cell_type": "code",
      "source": [
        "!python ner_model_keras.py"
      ],
      "metadata": {
        "id": "W7tOWK2Y0AlB",
        "outputId": "69957724-aec9-4af8-b432-d8c32f0c34cc",
        "colab": {
          "base_uri": "https://localhost:8080/"
        }
      },
      "execution_count": null,
      "outputs": [
        {
          "output_type": "stream",
          "name": "stdout",
          "text": [
            "Loading word embeddings from glove.6B.100d.txt.ner.filtered...\n",
            "Finished loading word embeddings\n",
            "2022-04-28 01:08:37.294539: W tensorflow/core/common_runtime/gpu/gpu_bfc_allocator.cc:39] Overriding allow_growth setting because the TF_FORCE_GPU_ALLOW_GROWTH environment variable is set. Original config value was 0.\n",
            "Model: \"model\"\n",
            "_________________________________________________________________\n",
            " Layer (type)                Output Shape              Param #   \n",
            "=================================================================\n",
            " input_2 (InputLayer)        [(None, None, 100)]       0         \n",
            "                                                                 \n",
            " GRU_layer_1 (Bidirectional)  (None, None, 100)        45600     \n",
            "                                                                 \n",
            " GRU_layer_2 (Bidirectional)  (None, None, 100)        45600     \n",
            "                                                                 \n",
            " dense (Dense)               (None, None, 50)          5050      \n",
            "                                                                 \n",
            " dropout_1 (Dropout)         (None, None, 50)          0         \n",
            "                                                                 \n",
            " dense_1 (Dense)             (None, None, 50)          2550      \n",
            "                                                                 \n",
            " dropout_2 (Dropout)         (None, None, 50)          0         \n",
            "                                                                 \n",
            " NER_scores (Dense)          (None, None, 5)           255       \n",
            "                                                                 \n",
            "=================================================================\n",
            "Total params: 99,055\n",
            "Trainable params: 99,055\n",
            "Non-trainable params: 0\n",
            "_________________________________________________________________\n",
            "Load 141 training batches from train.conll03.json\n",
            "Load 33 dev batches from dev.conll03.json\n",
            "Load 35 test batches from test.conll03.json\n",
            "\n",
            "Starting training epoch 1/5\n",
            "141/141 [==============================] - 7s 16ms/step - loss: 0.2523 - accuracy: 0.9513\n",
            "Time used for epoch 1: 0 m 7 s\n",
            "Evaluating on dev set after epoch 1/5:\n",
            "F1 : 66.98%\n",
            "Precision: 83.23%\n",
            "Recall: 56.04%\n",
            "Time used for evaluate on dev set: 0 m 4 s\n",
            "\n",
            "Starting training epoch 2/5\n",
            "141/141 [==============================] - 2s 16ms/step - loss: 0.0760 - accuracy: 0.9772\n",
            "Time used for epoch 2: 0 m 2 s\n",
            "Evaluating on dev set after epoch 2/5:\n",
            "F1 : 83.25%\n",
            "Precision: 88.22%\n",
            "Recall: 78.82%\n",
            "Time used for evaluate on dev set: 0 m 0 s\n",
            "\n",
            "Starting training epoch 3/5\n",
            "141/141 [==============================] - 2s 16ms/step - loss: 0.0587 - accuracy: 0.9823\n",
            "Time used for epoch 3: 0 m 2 s\n",
            "Evaluating on dev set after epoch 3/5:\n",
            "F1 : 84.28%\n",
            "Precision: 88.79%\n",
            "Recall: 80.21%\n",
            "Time used for evaluate on dev set: 0 m 0 s\n",
            "\n",
            "Starting training epoch 4/5\n",
            "141/141 [==============================] - 2s 16ms/step - loss: 0.0494 - accuracy: 0.9850\n",
            "Time used for epoch 4: 0 m 2 s\n",
            "Evaluating on dev set after epoch 4/5:\n",
            "F1 : 86.68%\n",
            "Precision: 89.78%\n",
            "Recall: 83.78%\n",
            "Time used for evaluate on dev set: 0 m 0 s\n",
            "\n",
            "Starting training epoch 5/5\n",
            "141/141 [==============================] - 2s 16ms/step - loss: 0.0437 - accuracy: 0.9864\n",
            "Time used for epoch 5: 0 m 2 s\n",
            "Evaluating on dev set after epoch 5/5:\n",
            "F1 : 87.37%\n",
            "Precision: 91.25%\n",
            "Recall: 83.81%\n",
            "Time used for evaluate on dev set: 0 m 0 s\n",
            "\n",
            "Training finished!\n",
            "Time used for training: 0 m 22 s\n",
            "\n",
            "Evaluating on test set:\n",
            "F1 : 84.15%\n",
            "Precision: 88.62%\n",
            "Recall: 80.11%\n",
            "Time used for evaluate on test set: 0 m 0 s\n"
          ]
        }
      ]
    },
    {
      "cell_type": "code",
      "source": [
        ""
      ],
      "metadata": {
        "id": "qrqwDcETr1gZ"
      },
      "execution_count": null,
      "outputs": []
    }
  ],
  "metadata": {
    "colab": {
      "collapsed_sections": [],
      "name": "NER_Lab_Results.ipynb",
      "provenance": []
    },
    "kernelspec": {
      "display_name": "Python 3",
      "name": "python3"
    },
    "accelerator": "GPU"
  },
  "nbformat": 4,
  "nbformat_minor": 0
}